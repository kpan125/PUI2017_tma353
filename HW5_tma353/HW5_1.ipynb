{
 "cells": [
  {
   "cell_type": "code",
   "execution_count": 1,
   "metadata": {
    "collapsed": false
   },
   "outputs": [
    {
     "name": "stdout",
     "output_type": "stream",
     "text": [
      "Populating the interactive namespace from numpy and matplotlib\n"
     ]
    }
   ],
   "source": [
    "import numpy as np\n",
    "import pandas as pd\n",
    "import pylab as pl\n",
    "import os\n",
    "import scipy.stats\n",
    "\n",
    "%pylab inline"
   ]
  },
  {
   "cell_type": "code",
   "execution_count": 6,
   "metadata": {
    "collapsed": true
   },
   "outputs": [],
   "source": [
    "# normal = st.norm.rvs(loc=100, scale=10, size=1000)"
   ]
  },
  {
   "cell_type": "code",
   "execution_count": 7,
   "metadata": {
    "collapsed": true
   },
   "outputs": [],
   "source": [
    "np.random.seed(100) # param dist\n",
    "mean = 111\n",
    "sigma = 22\n",
    "N = 100\n",
    "\n",
    "norm = np.random.normal(mean, sigma, N)"
   ]
  },
  {
   "cell_type": "code",
   "execution_count": 8,
   "metadata": {
    "collapsed": false
   },
   "outputs": [
    {
     "data": {
      "image/png": "[encoded data removed]",
      "text/plain": [
       "<matplotlib.figure.Figure at 0x7f21d6790b90>"
      ]
     },
     "metadata": {},
     "output_type": "display_data"
    }
   ],
   "source": [
    "pl.hist(norm, label=\"Gaussian\")\n",
    "pl.legend()\n",
    "pl.title(\"Normal distribution\", size = 16)\n",
    "pl.xlabel('Means of the sample', size = 14);\n",
    "pl.ylabel('Sample#', size = 14);\n"
   ]
  },
  {
   "cell_type": "code",
   "execution_count": 9,
   "metadata": {
    "collapsed": false
   },
   "outputs": [
    {
     "data": {
      "image/png": "[encoded data removed]",
      "text/plain": [
       "<matplotlib.figure.Figure at 0x7f21d3cb7510>"
      ]
     },
     "metadata": {},
     "output_type": "display_data"
    }
   ],
   "source": [
    "pl.hist(norm);"
   ]
  },
  {
   "cell_type": "code",
   "execution_count": 10,
   "metadata": {
    "collapsed": true
   },
   "outputs": [],
   "source": [
    "# random poission dist\n",
    "\n",
    "np.random.seed(100)\n",
    "\n",
    "lamda = mean\n",
    "\n",
    "mydict = {}\n",
    "mydict['pois'] = {} \n",
    "mydict['pois']['means'] = {}\n",
    "\n",
    "for i in range(100):\n",
    "    mydict['pois'][i] = np.random.poisson(lamda, size= N)\n",
    "\n",
    "for q in mydict['pois']:\n",
    "    if not type(q) == str:\n",
    "        mydict['pois']['means'][q] = mydict['pois'][q].mean()\n",
    "        \n",
    "mymeans = mydict['pois']['means'].values()"
   ]
  },
  {
   "cell_type": "code",
   "execution_count": 11,
   "metadata": {
    "collapsed": true
   },
   "outputs": [],
   "source": [
    "#def calculate_z(norm, mu = 100, std = 10):\n",
    "    #z = np.sqrt(len(norm)) * (mu-norm.mean())/(std)\n",
    "    #return z"
   ]
  },
  {
   "cell_type": "code",
   "execution_count": 12,
   "metadata": {
    "collapsed": false
   },
   "outputs": [
    {
     "data": {
      "image/png": "[encoded data removed]",
      "text/plain": [
       "<matplotlib.figure.Figure at 0x7f21d1457890>"
      ]
     },
     "metadata": {},
     "output_type": "display_data"
    }
   ],
   "source": [
    "plt.hist(mydict['pois'][0]);"
   ]
  },
  {
   "cell_type": "code",
   "execution_count": 40,
   "metadata": {
    "collapsed": false
   },
   "outputs": [],
   "source": [
    "# calculate_z(norm)\n",
    "#z = np.zeros(1000)\n",
    "#np.random.seed(10)\n",
    "#for i in range(0, 1000):\n",
    "#    z[i] = (calculate_z(st.norm.rvs(loc = 100, scale = 10, size = 1000)))\n",
    "    "
   ]
  },
  {
   "cell_type": "code",
   "execution_count": 13,
   "metadata": {
    "collapsed": true
   },
   "outputs": [],
   "source": [
    "def ztest(n): # z-test\n",
    "    \"\"\"Runs the z test\"\"\"\n",
    "    z = (mean - n) / sigma * sqrt(n)\n",
    "    return z"
   ]
  },
  {
   "cell_type": "code",
   "execution_count": 14,
   "metadata": {
    "collapsed": false,
    "scrolled": true
   },
   "outputs": [
    {
     "data": {
      "image/png": "[encoded data removed]",
      "text/plain": [
       "<matplotlib.figure.Figure at 0x7f2196e00c50>"
      ]
     },
     "metadata": {},
     "output_type": "display_data"
    }
   ],
   "source": [
    "zscores = []\n",
    "\n",
    "for n in mymeans:\n",
    "    zscore = ztest(n)\n",
    "    zscores.append(zscore)\n",
    "    \n",
    "plt.hist(zscores); # plot z scores"
   ]
  },
  {
   "cell_type": "code",
   "execution_count": 43,
   "metadata": {
    "collapsed": true
   },
   "outputs": [],
   "source": [
    "# Ho: sample of z score come from normal parent dist, alpha = 0.05"
   ]
  },
  {
   "cell_type": "code",
   "execution_count": 16,
   "metadata": {
    "collapsed": false
   },
   "outputs": [
    {
     "data": {
      "image/png": "[encoded data removed]",
      "text/plain": [
       "<matplotlib.figure.Figure at 0x7f2196e333d0>"
      ]
     },
     "metadata": {},
     "output_type": "display_data"
    }
   ],
   "source": [
    "np.random.seed(100)\n",
    "N_0 = np.random.normal(0, 1, 100)\n",
    "plt.hist(zscores, alpha = .5)\n",
    "plt.hist(N_0, alpha = .5);\n",
    "pl.title(\"Two samples from Poisson Distribution\", size = 16)\n",
    "pl.xlabel('Means', size = 14);\n",
    "pl.ylabel('Values of Sample', size = 14);  "
   ]
  },
  {
   "cell_type": "code",
   "execution_count": 17,
   "metadata": {
    "collapsed": true
   },
   "outputs": [],
   "source": [
    "# gaussian mean = 0, std dev = 1, high z score"
   ]
  },
  {
   "cell_type": "code",
   "execution_count": 18,
   "metadata": {
    "collapsed": false
   },
   "outputs": [
    {
     "name": "stdout",
     "output_type": "stream",
     "text": [
      "('z-scores on normal', KstestResult(statistic=0.18840587384145235, pvalue=0.0013961169772984672))\n"
     ]
    }
   ],
   "source": [
    "print (\"z-scores on normal\", scipy.stats.kstest(zscores, 'norm'))\n"
   ]
  },
  {
   "cell_type": "code",
   "execution_count": 20,
   "metadata": {
    "collapsed": false
   },
   "outputs": [
    {
     "name": "stderr",
     "output_type": "stream",
     "text": [
      "/opt/rh/anaconda/root/envs/PUI2016_Python2/lib/python2.7/site-packages/ipykernel/__main__.py:3: VisibleDeprecationWarning: using a non-integer number instead of an integer will result in an error in the future\n",
      "  app.launch_new_instance()\n"
     ]
    },
    {
     "ename": "TypeError",
     "evalue": "range() integer end argument expected, got numpy.float64.",
     "output_type": "error",
     "traceback": [
      "\u001b[0;31m\u001b[0m",
      "\u001b[0;31mTypeError\u001b[0mTraceback (most recent call last)",
      "\u001b[0;32m<ipython-input-20-4a39fbadfb75>\u001b[0m in \u001b[0;36m<module>\u001b[0;34m()\u001b[0m\n\u001b[1;32m      3\u001b[0m \u001b[0mzScores\u001b[0m \u001b[0;34m=\u001b[0m \u001b[0mnp\u001b[0m\u001b[0;34m.\u001b[0m\u001b[0mzeros\u001b[0m\u001b[0;34m(\u001b[0m\u001b[0mn\u001b[0m\u001b[0;34m,\u001b[0m\u001b[0mfloat\u001b[0m\u001b[0;34m)\u001b[0m\u001b[0;34m\u001b[0m\u001b[0m\n\u001b[1;32m      4\u001b[0m \u001b[0;34m\u001b[0m\u001b[0m\n\u001b[0;32m----> 5\u001b[0;31m \u001b[0;32mfor\u001b[0m \u001b[0mi\u001b[0m \u001b[0;32min\u001b[0m \u001b[0mrange\u001b[0m\u001b[0;34m(\u001b[0m\u001b[0mn\u001b[0m\u001b[0;34m)\u001b[0m\u001b[0;34m:\u001b[0m\u001b[0;34m\u001b[0m\u001b[0m\n\u001b[0m\u001b[1;32m      6\u001b[0m     \u001b[0mzScores\u001b[0m\u001b[0;34m[\u001b[0m\u001b[0mi\u001b[0m\u001b[0;34m]\u001b[0m \u001b[0;34m=\u001b[0m \u001b[0;34m(\u001b[0m\u001b[0mmean\u001b[0m \u001b[0;34m-\u001b[0m \u001b[0msMeans\u001b[0m\u001b[0;34m[\u001b[0m\u001b[0mi\u001b[0m\u001b[0;34m]\u001b[0m\u001b[0;34m)\u001b[0m \u001b[0;34m/\u001b[0m \u001b[0msigma\u001b[0m \u001b[0;34m*\u001b[0m \u001b[0msqrt\u001b[0m\u001b[0;34m(\u001b[0m\u001b[0mn\u001b[0m\u001b[0;34m)\u001b[0m\u001b[0;34m\u001b[0m\u001b[0m\n\u001b[1;32m      7\u001b[0m \u001b[0;34m\u001b[0m\u001b[0m\n",
      "\u001b[0;31mTypeError\u001b[0m: range() integer end argument expected, got numpy.float64."
     ]
    }
   ],
   "source": [
    "\n",
    "np.random.seed(999)\n",
    "zScores = np.zeros(n,float)\n",
    "\n",
    "for i in range(n):\n",
    "    zScores[i] = (mean - sMeans[i]) / sigma * sqrt(n)\n",
    "\n",
    "gauss = np.random.normal(0, 1, 100)"
   ]
  },
  {
   "cell_type": "code",
   "execution_count": null,
   "metadata": {
    "collapsed": true
   },
   "outputs": [],
   "source": []
  },
  {
   "cell_type": "code",
   "execution_count": 50,
   "metadata": {
    "collapsed": true
   },
   "outputs": [],
   "source": [
    "# ks test, p-value is 0.001, alpha was 0.05 we accept Ho"
   ]
  },
  {
   "cell_type": "code",
   "execution_count": 51,
   "metadata": {
    "collapsed": false
   },
   "outputs": [
    {
     "name": "stdout",
     "output_type": "stream",
     "text": [
      "('z-scores on normal', AndersonResult(statistic=0.34040420357315782, critical_values=array([ 0.555,  0.632,  0.759,  0.885,  1.053]), significance_level=array([ 15. ,  10. ,   5. ,   2.5,   1. ])))\n"
     ]
    }
   ],
   "source": [
    "print (\"z-scores on normal\", scipy.stats.anderson(zscores, dist='norm'))"
   ]
  },
  {
   "cell_type": "code",
   "execution_count": 52,
   "metadata": {
    "collapsed": true
   },
   "outputs": [],
   "source": [
    "# AD test, critical val is 0.34, selected p value xxx we accept Ho"
   ]
  },
  {
   "cell_type": "code",
   "execution_count": 21,
   "metadata": {
    "collapsed": false
   },
   "outputs": [
    {
     "data": {
      "image/png": "[encoded data removed]",
      "text/plain": [
       "<matplotlib.figure.Figure at 0x7f21945200d0>"
      ]
     },
     "metadata": {},
     "output_type": "display_data"
    },
    {
     "name": "stdout",
     "output_type": "stream",
     "text": [
      "values of the z Test each of the means\n"
     ]
    }
   ],
   "source": [
    "fig = pl.figure(figsize=(12,4)) \n",
    "ax = fig.add_subplot(121)\n",
    "\n",
    "ax.hist(zScores)\n",
    "\n",
    "ax.set_title(\"Z scores values for each mean\", size = 14)\n",
    "ax.set_xlabel('X', size = 14);\n",
    "\n",
    "\n",
    "pl.show()\n",
    "print (\"values of the z Test each of the means\")"
   ]
  },
  {
   "cell_type": "code",
   "execution_count": 22,
   "metadata": {
    "collapsed": false
   },
   "outputs": [
    {
     "ename": "NameError",
     "evalue": "name 'gauss' is not defined",
     "output_type": "error",
     "traceback": [
      "\u001b[0;31m\u001b[0m",
      "\u001b[0;31mNameError\u001b[0mTraceback (most recent call last)",
      "\u001b[0;32m<ipython-input-22-a548d1bd543c>\u001b[0m in \u001b[0;36m<module>\u001b[0;34m()\u001b[0m\n\u001b[1;32m      5\u001b[0m \u001b[0;34m\u001b[0m\u001b[0m\n\u001b[1;32m      6\u001b[0m \u001b[0max1\u001b[0m\u001b[0;34m.\u001b[0m\u001b[0mhist\u001b[0m\u001b[0;34m(\u001b[0m\u001b[0mzScores\u001b[0m\u001b[0;34m,\u001b[0m \u001b[0malpha\u001b[0m\u001b[0;34m=\u001b[0m\u001b[0;36m0.5\u001b[0m\u001b[0;34m)\u001b[0m\u001b[0;34m\u001b[0m\u001b[0m\n\u001b[0;32m----> 7\u001b[0;31m \u001b[0max1\u001b[0m\u001b[0;34m.\u001b[0m\u001b[0mhist\u001b[0m\u001b[0;34m(\u001b[0m\u001b[0mgauss\u001b[0m\u001b[0;34m,\u001b[0m\u001b[0malpha\u001b[0m\u001b[0;34m=\u001b[0m\u001b[0;36m0.5\u001b[0m\u001b[0;34m)\u001b[0m\u001b[0;34m\u001b[0m\u001b[0m\n\u001b[0m\u001b[1;32m      8\u001b[0m \u001b[0;34m\u001b[0m\u001b[0m\n\u001b[1;32m      9\u001b[0m \u001b[0max1\u001b[0m\u001b[0;34m.\u001b[0m\u001b[0mset_title\u001b[0m\u001b[0;34m(\u001b[0m\u001b[0;34m\"z Scores + normal distributions\"\u001b[0m\u001b[0;34m,\u001b[0m \u001b[0msize\u001b[0m \u001b[0;34m=\u001b[0m \u001b[0;36m14\u001b[0m\u001b[0;34m)\u001b[0m\u001b[0;34m\u001b[0m\u001b[0m\n",
      "\u001b[0;31mNameError\u001b[0m: name 'gauss' is not defined"
     ]
    },
    {
     "data": {
      "image/png": "[encoded data removed]",
      "text/plain": [
       "<matplotlib.figure.Figure at 0x7f21d0989ad0>"
      ]
     },
     "metadata": {},
     "output_type": "display_data"
    }
   ],
   "source": [
    "# histogram of my Z scores and histogram of normal distribution\n",
    "\n",
    "fig = pl.figure(figsize=(12,4)) \n",
    "ax1 = fig.add_subplot(121)\n",
    "\n",
    "ax1.hist(zScores, alpha=0.5)\n",
    "ax1.hist(gauss,alpha=0.5)\n",
    "\n",
    "ax1.set_title(\"z Scores + normal distributions\", size = 14)\n",
    "ax1.set_xlabel('X', size = 14);\n",
    "\n",
    "# histogram of Z scores curve and gaussian curve\n",
    "\n",
    "zScores_sorted = sorted(zScores)\n",
    "fit = (stats.norm.pdf(zScores_sorted,np.mean(zScores_sorted),np.std(zScores_sorted))*40)\n",
    "\n",
    "# gaussian curve w/mu = 0 and std 1\n",
    "mu = 0\n",
    "std = 1\n",
    "gauss_x = np.linspace(mu - 2*std, mu + 2*std, 100)\n",
    "\n",
    "ax2 = fig.add_subplot(122)\n",
    "ax2.hist(zScores, alpha=0.5)\n",
    "ax2.plot(zScores_sorted, fit, '-b')  \n",
    "ax2.plot(gauss_x,stats.norm.pdf(gauss_x,mu,std)*46)\n",
    "\n",
    "ax2.set_title(\"z Scores and its curve(blue),Gaussian(orange)\", size = 14)\n",
    "ax2.set_xlabel('X', size = 14);\n",
    "\n",
    "pl.show()\n",
    "print ( \"figure shows histogram for the Z scores\"\n",
    "       + \" of samples a normal distribution with mu = 0 and std = 1\"\n",
    "       + \" fit z statistics with a gaussian model\"\n",
    "       + \" see is the difference between the two lines\")"
   ]
  },
  {
   "cell_type": "code",
   "execution_count": 23,
   "metadata": {
    "collapsed": false
   },
   "outputs": [
    {
     "name": "stdout",
     "output_type": "stream",
     "text": [
      "('Z Scores on normal', KstestResult(statistic=0.5, pvalue=0.0))\n",
      "('Z Scores on normal', AndersonResult(statistic=nan, critical_values=array([ 0.557,  0.634,  0.761,  0.887,  1.055]), significance_level=array([ 15. ,  10. ,   5. ,   2.5,   1. ])))\n",
      "\n"
     ]
    }
   ],
   "source": [
    "alpha = 0.05\n",
    "np.random.seed(999)\n",
    "dist_n = np.random.randn(1000) \n",
    "\n",
    "#test ad and ks. those are easy\n",
    "print (\"Z Scores on normal\", scipy.stats.kstest(zScores,'norm'))\n",
    "print (\"Z Scores on normal\", scipy.stats.anderson(zScores, dist='norm'))\n",
    "print (\"\")"
   ]
  },
  {
   "cell_type": "code",
   "execution_count": null,
   "metadata": {
    "collapsed": true
   },
   "outputs": [],
   "source": [
    "# KS p value is o, reject Null test"
   ]
  }
 ],
 "metadata": {
  "kernelspec": {
   "display_name": "PUI2016_Python2",
   "language": "python",
   "name": "pui2016_python2"
  },
  "language_info": {
   "codemirror_mode": {
    "name": "ipython",
    "version": 2
   },
   "file_extension": ".py",
   "mimetype": "text/x-python",
   "name": "python",
   "nbconvert_exporter": "python",
   "pygments_lexer": "ipython2",
   "version": "2.7.12"
  }
 },
 "nbformat": 4,
 "nbformat_minor": 0
}
