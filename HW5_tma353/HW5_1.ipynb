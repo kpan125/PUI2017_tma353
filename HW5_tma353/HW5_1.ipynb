{
 "cells": [
  {
   "cell_type": "code",
   "execution_count": 1,
   "metadata": {
    "collapsed": false
   },
   "outputs": [
    {
     "name": "stdout",
     "output_type": "stream",
     "text": [
      "Populating the interactive namespace from numpy and matplotlib\n"
     ]
    }
   ],
   "source": [
    "import numpy as np\n",
    "import pandas as pd\n",
    "import pylab as pl\n",
    "import os\n",
    "import scipy.stats\n",
    "\n",
    "%pylab inline"
   ]
  },
  {
   "cell_type": "code",
   "execution_count": 2,
   "metadata": {
    "collapsed": true
   },
   "outputs": [],
   "source": [
    "# normal = st.norm.rvs(loc=100, scale=10, size=1000)"
   ]
  },
  {
   "cell_type": "code",
   "execution_count": 34,
   "metadata": {
    "collapsed": true
   },
   "outputs": [],
   "source": [
    "np.random.seed(100) # param dist\n",
    "mean = 111\n",
    "sigma = 22\n",
    "N = 100\n",
    "\n",
    "norm = np.random.normal(mean, sigma, N)"
   ]
  },
  {
   "cell_type": "code",
   "execution_count": 35,
   "metadata": {
    "collapsed": false
   },
   "outputs": [
    {
     "data": {
      "text/plain": [
       "(array([  1.,   7.,   8.,  13.,  16.,  17.,  13.,  14.,   7.,   4.]),\n",
       " array([  56.28266623,   66.23053624,   76.17840625,   86.12627626,\n",
       "          96.07414628,  106.02201629,  115.9698863 ,  125.91775631,\n",
       "         135.86562633,  145.81349634,  155.76136635]),\n",
       " <a list of 10 Patch objects>)"
      ]
     },
     "execution_count": 35,
     "metadata": {},
     "output_type": "execute_result"
    },
    {
     "data": {
      "image/png": "[encoded data removed]",
      "text/plain": [
       "<matplotlib.figure.Figure at 0x7f5316bfdf10>"
      ]
     },
     "metadata": {},
     "output_type": "display_data"
    }
   ],
   "source": [
    "plt.hist(norm)"
   ]
  },
  {
   "cell_type": "code",
   "execution_count": 36,
   "metadata": {
    "collapsed": false
   },
   "outputs": [
    {
     "data": {
      "image/png": "[encoded data removed]",
      "text/plain": [
       "<matplotlib.figure.Figure at 0x7f5316cecc90>"
      ]
     },
     "metadata": {},
     "output_type": "display_data"
    }
   ],
   "source": [
    "pl.hist(norm);"
   ]
  },
  {
   "cell_type": "code",
   "execution_count": 37,
   "metadata": {
    "collapsed": true
   },
   "outputs": [],
   "source": [
    "# random poission dist\n",
    "\n",
    "np.random.seed(100)\n",
    "\n",
    "lamda = mean\n",
    "\n",
    "mydict = {}\n",
    "mydict['pois'] = {} \n",
    "mydict['pois']['means'] = {}\n",
    "\n",
    "for i in range(100):\n",
    "    mydict['pois'][i] = np.random.poisson(lamda, size= N)\n",
    "\n",
    "for q in mydict['pois']:\n",
    "    if not type(q) == str:\n",
    "        mydict['pois']['means'][q] = mydict['pois'][q].mean()\n",
    "        \n",
    "mymeans = mydict['pois']['means'].values()"
   ]
  },
  {
   "cell_type": "code",
   "execution_count": 38,
   "metadata": {
    "collapsed": true
   },
   "outputs": [],
   "source": [
    "#def calculate_z(norm, mu = 100, std = 10):\n",
    "    #z = np.sqrt(len(norm)) * (mu-norm.mean())/(std)\n",
    "    #return z"
   ]
  },
  {
   "cell_type": "code",
   "execution_count": 39,
   "metadata": {
    "collapsed": false
   },
   "outputs": [
    {
     "data": {
      "image/png": "[encoded data removed]",
      "text/plain": [
       "<matplotlib.figure.Figure at 0x7f5316bd0d10>"
      ]
     },
     "metadata": {},
     "output_type": "display_data"
    }
   ],
   "source": [
    "plt.hist(mydict['pois'][0]);"
   ]
  },
  {
   "cell_type": "code",
   "execution_count": 40,
   "metadata": {
    "collapsed": false
   },
   "outputs": [],
   "source": [
    "# calculate_z(norm)\n",
    "#z = np.zeros(1000)\n",
    "#np.random.seed(10)\n",
    "#for i in range(0, 1000):\n",
    "#    z[i] = (calculate_z(st.norm.rvs(loc = 100, scale = 10, size = 1000)))\n",
    "    "
   ]
  },
  {
   "cell_type": "code",
   "execution_count": 41,
   "metadata": {
    "collapsed": true
   },
   "outputs": [],
   "source": [
    "def ztest(n): # z-test\n",
    "    \"\"\"Runs the z test\"\"\"\n",
    "    z = (mean - n) / sigma * sqrt(n)\n",
    "    return z"
   ]
  },
  {
   "cell_type": "code",
   "execution_count": 42,
   "metadata": {
    "collapsed": false,
    "scrolled": true
   },
   "outputs": [
    {
     "data": {
      "image/png": "[encoded data removed]",
      "text/plain": [
       "<matplotlib.figure.Figure at 0x7f5316de97d0>"
      ]
     },
     "metadata": {},
     "output_type": "display_data"
    }
   ],
   "source": [
    "zscores = []\n",
    "\n",
    "for n in mymeans:\n",
    "    zscore = ztest(n)\n",
    "    zscores.append(zscore)\n",
    "    \n",
    "plt.hist(zscores); # plot z scores"
   ]
  },
  {
   "cell_type": "code",
   "execution_count": 43,
   "metadata": {
    "collapsed": true
   },
   "outputs": [],
   "source": [
    "# Ho: sample of z score come from normal parent dist, alpha = 0.05"
   ]
  },
  {
   "cell_type": "code",
   "execution_count": 45,
   "metadata": {
    "collapsed": false
   },
   "outputs": [
    {
     "data": {
      "image/png": "[encoded data removed]",
      "text/plain": [
       "<matplotlib.figure.Figure at 0x7f5316859d10>"
      ]
     },
     "metadata": {},
     "output_type": "display_data"
    }
   ],
   "source": [
    "np.random.seed(100)\n",
    "N_0 = np.random.normal(0, 1, 100)\n",
    "plt.hist(zscores, alpha = .5)\n",
    "plt.hist(N_0, alpha = .5);"
   ]
  },
  {
   "cell_type": "code",
   "execution_count": 46,
   "metadata": {
    "collapsed": true
   },
   "outputs": [],
   "source": [
    "# gaussian mean = 0, std dev = 1, high z score"
   ]
  },
  {
   "cell_type": "code",
   "execution_count": 49,
   "metadata": {
    "collapsed": false
   },
   "outputs": [
    {
     "name": "stdout",
     "output_type": "stream",
     "text": [
      "('z-scores on normal', KstestResult(statistic=0.18840587384145235, pvalue=0.0013961169772984672))\n"
     ]
    }
   ],
   "source": [
    "print (\"z-scores on normal\", scipy.stats.kstest(zscores, 'norm'))\n"
   ]
  },
  {
   "cell_type": "code",
   "execution_count": 50,
   "metadata": {
    "collapsed": true
   },
   "outputs": [],
   "source": [
    "# ks test, p-value is 0.001, alpha was 0.05 we accept Ho"
   ]
  },
  {
   "cell_type": "code",
   "execution_count": 51,
   "metadata": {
    "collapsed": false
   },
   "outputs": [
    {
     "name": "stdout",
     "output_type": "stream",
     "text": [
      "('z-scores on normal', AndersonResult(statistic=0.34040420357315782, critical_values=array([ 0.555,  0.632,  0.759,  0.885,  1.053]), significance_level=array([ 15. ,  10. ,   5. ,   2.5,   1. ])))\n"
     ]
    }
   ],
   "source": [
    "print (\"z-scores on normal\", scipy.stats.anderson(zscores, dist='norm'))"
   ]
  },
  {
   "cell_type": "code",
   "execution_count": 52,
   "metadata": {
    "collapsed": true
   },
   "outputs": [],
   "source": [
    "# AD test, critical val is 0.34, selected p value xxx we accept Ho"
   ]
  },
  {
   "cell_type": "code",
   "execution_count": null,
   "metadata": {
    "collapsed": false
   },
   "outputs": [],
   "source": []
  },
  {
   "cell_type": "code",
   "execution_count": null,
   "metadata": {
    "collapsed": true
   },
   "outputs": [],
   "source": []
  }
 ],
 "metadata": {
  "kernelspec": {
   "display_name": "PUI2016_Python2",
   "language": "python",
   "name": "pui2016_python2"
  },
  "language_info": {
   "codemirror_mode": {
    "name": "ipython",
    "version": 2
   },
   "file_extension": ".py",
   "mimetype": "text/x-python",
   "name": "python",
   "nbconvert_exporter": "python",
   "pygments_lexer": "ipython2",
   "version": "2.7.12"
  }
 },
 "nbformat": 4,
 "nbformat_minor": 0
}
