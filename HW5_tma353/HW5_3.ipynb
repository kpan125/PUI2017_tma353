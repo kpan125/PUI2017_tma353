{
 "cells": [
  {
   "cell_type": "code",
   "execution_count": 3,
   "metadata": {
    "collapsed": false
   },
   "outputs": [
    {
     "name": "stdout",
     "output_type": "stream",
     "text": [
      "Populating the interactive namespace from numpy and matplotlib\n"
     ]
    }
   ],
   "source": [
    "import pylab as pl\n",
    "import pandas as pd\n",
    "import numpy as np\n",
    "import os\n",
    "import statsmodels.api as sm\n",
    "%pylab inline"
   ]
  },
  {
   "cell_type": "code",
   "execution_count": 2,
   "metadata": {
    "collapsed": false
   },
   "outputs": [
    {
     "ename": "IOError",
     "evalue": "File /home/cusp/tma353/PUIdata/World firearms murders and ownership - Sheet 1.csv does not exist",
     "output_type": "error",
     "traceback": [
      "\u001b[0;31m\u001b[0m",
      "\u001b[0;31mIOError\u001b[0mTraceback (most recent call last)",
      "\u001b[0;32m<ipython-input-2-653568e5a95c>\u001b[0m in \u001b[0;36m<module>\u001b[0;34m()\u001b[0m\n\u001b[1;32m      1\u001b[0m \u001b[0;31m#Import the data\u001b[0m\u001b[0;34m\u001b[0m\u001b[0;34m\u001b[0m\u001b[0m\n\u001b[0;32m----> 2\u001b[0;31m \u001b[0mdf1\u001b[0m \u001b[0;34m=\u001b[0m \u001b[0mpd\u001b[0m\u001b[0;34m.\u001b[0m\u001b[0mread_csv\u001b[0m\u001b[0;34m(\u001b[0m\u001b[0mos\u001b[0m\u001b[0;34m.\u001b[0m\u001b[0mgetenv\u001b[0m\u001b[0;34m(\u001b[0m\u001b[0;34m\"PUIDATA\"\u001b[0m\u001b[0;34m)\u001b[0m \u001b[0;34m+\u001b[0m \u001b[0;34m\"/\"\u001b[0m \u001b[0;34m+\u001b[0m \u001b[0;34m'World firearms murders and ownership - Sheet 1.csv'\u001b[0m\u001b[0;34m)\u001b[0m\u001b[0;34m\u001b[0m\u001b[0m\n\u001b[0m\u001b[1;32m      3\u001b[0m \u001b[0;34m\u001b[0m\u001b[0m\n\u001b[1;32m      4\u001b[0m \u001b[0;31m#Tidy it up\u001b[0m\u001b[0;34m\u001b[0m\u001b[0;34m\u001b[0m\u001b[0m\n\u001b[1;32m      5\u001b[0m df1.drop(['ISO code', 'Source', 'Rank by rate of ownership', '% of homicides by firearm', \n",
      "\u001b[0;32m/opt/rh/anaconda/root/envs/PUI2016_Python2/lib/python2.7/site-packages/pandas/io/parsers.pyc\u001b[0m in \u001b[0;36mparser_f\u001b[0;34m(filepath_or_buffer, sep, delimiter, header, names, index_col, usecols, squeeze, prefix, mangle_dupe_cols, dtype, engine, converters, true_values, false_values, skipinitialspace, skiprows, skipfooter, nrows, na_values, keep_default_na, na_filter, verbose, skip_blank_lines, parse_dates, infer_datetime_format, keep_date_col, date_parser, dayfirst, iterator, chunksize, compression, thousands, decimal, lineterminator, quotechar, quoting, escapechar, comment, encoding, dialect, tupleize_cols, error_bad_lines, warn_bad_lines, skip_footer, doublequote, delim_whitespace, as_recarray, compact_ints, use_unsigned, low_memory, buffer_lines, memory_map, float_precision)\u001b[0m\n\u001b[1;32m    560\u001b[0m                     skip_blank_lines=skip_blank_lines)\n\u001b[1;32m    561\u001b[0m \u001b[0;34m\u001b[0m\u001b[0m\n\u001b[0;32m--> 562\u001b[0;31m         \u001b[0;32mreturn\u001b[0m \u001b[0m_read\u001b[0m\u001b[0;34m(\u001b[0m\u001b[0mfilepath_or_buffer\u001b[0m\u001b[0;34m,\u001b[0m \u001b[0mkwds\u001b[0m\u001b[0;34m)\u001b[0m\u001b[0;34m\u001b[0m\u001b[0m\n\u001b[0m\u001b[1;32m    563\u001b[0m \u001b[0;34m\u001b[0m\u001b[0m\n\u001b[1;32m    564\u001b[0m     \u001b[0mparser_f\u001b[0m\u001b[0;34m.\u001b[0m\u001b[0m__name__\u001b[0m \u001b[0;34m=\u001b[0m \u001b[0mname\u001b[0m\u001b[0;34m\u001b[0m\u001b[0m\n",
      "\u001b[0;32m/opt/rh/anaconda/root/envs/PUI2016_Python2/lib/python2.7/site-packages/pandas/io/parsers.pyc\u001b[0m in \u001b[0;36m_read\u001b[0;34m(filepath_or_buffer, kwds)\u001b[0m\n\u001b[1;32m    313\u001b[0m \u001b[0;34m\u001b[0m\u001b[0m\n\u001b[1;32m    314\u001b[0m     \u001b[0;31m# Create the parser.\u001b[0m\u001b[0;34m\u001b[0m\u001b[0;34m\u001b[0m\u001b[0m\n\u001b[0;32m--> 315\u001b[0;31m     \u001b[0mparser\u001b[0m \u001b[0;34m=\u001b[0m \u001b[0mTextFileReader\u001b[0m\u001b[0;34m(\u001b[0m\u001b[0mfilepath_or_buffer\u001b[0m\u001b[0;34m,\u001b[0m \u001b[0;34m**\u001b[0m\u001b[0mkwds\u001b[0m\u001b[0;34m)\u001b[0m\u001b[0;34m\u001b[0m\u001b[0m\n\u001b[0m\u001b[1;32m    316\u001b[0m \u001b[0;34m\u001b[0m\u001b[0m\n\u001b[1;32m    317\u001b[0m     \u001b[0;32mif\u001b[0m \u001b[0;34m(\u001b[0m\u001b[0mnrows\u001b[0m \u001b[0;32mis\u001b[0m \u001b[0;32mnot\u001b[0m \u001b[0mNone\u001b[0m\u001b[0;34m)\u001b[0m \u001b[0;32mand\u001b[0m \u001b[0;34m(\u001b[0m\u001b[0mchunksize\u001b[0m \u001b[0;32mis\u001b[0m \u001b[0;32mnot\u001b[0m \u001b[0mNone\u001b[0m\u001b[0;34m)\u001b[0m\u001b[0;34m:\u001b[0m\u001b[0;34m\u001b[0m\u001b[0m\n",
      "\u001b[0;32m/opt/rh/anaconda/root/envs/PUI2016_Python2/lib/python2.7/site-packages/pandas/io/parsers.pyc\u001b[0m in \u001b[0;36m__init__\u001b[0;34m(self, f, engine, **kwds)\u001b[0m\n\u001b[1;32m    643\u001b[0m             \u001b[0mself\u001b[0m\u001b[0;34m.\u001b[0m\u001b[0moptions\u001b[0m\u001b[0;34m[\u001b[0m\u001b[0;34m'has_index_names'\u001b[0m\u001b[0;34m]\u001b[0m \u001b[0;34m=\u001b[0m \u001b[0mkwds\u001b[0m\u001b[0;34m[\u001b[0m\u001b[0;34m'has_index_names'\u001b[0m\u001b[0;34m]\u001b[0m\u001b[0;34m\u001b[0m\u001b[0m\n\u001b[1;32m    644\u001b[0m \u001b[0;34m\u001b[0m\u001b[0m\n\u001b[0;32m--> 645\u001b[0;31m         \u001b[0mself\u001b[0m\u001b[0;34m.\u001b[0m\u001b[0m_make_engine\u001b[0m\u001b[0;34m(\u001b[0m\u001b[0mself\u001b[0m\u001b[0;34m.\u001b[0m\u001b[0mengine\u001b[0m\u001b[0;34m)\u001b[0m\u001b[0;34m\u001b[0m\u001b[0m\n\u001b[0m\u001b[1;32m    646\u001b[0m \u001b[0;34m\u001b[0m\u001b[0m\n\u001b[1;32m    647\u001b[0m     \u001b[0;32mdef\u001b[0m \u001b[0mclose\u001b[0m\u001b[0;34m(\u001b[0m\u001b[0mself\u001b[0m\u001b[0;34m)\u001b[0m\u001b[0;34m:\u001b[0m\u001b[0;34m\u001b[0m\u001b[0m\n",
      "\u001b[0;32m/opt/rh/anaconda/root/envs/PUI2016_Python2/lib/python2.7/site-packages/pandas/io/parsers.pyc\u001b[0m in \u001b[0;36m_make_engine\u001b[0;34m(self, engine)\u001b[0m\n\u001b[1;32m    797\u001b[0m     \u001b[0;32mdef\u001b[0m \u001b[0m_make_engine\u001b[0m\u001b[0;34m(\u001b[0m\u001b[0mself\u001b[0m\u001b[0;34m,\u001b[0m \u001b[0mengine\u001b[0m\u001b[0;34m=\u001b[0m\u001b[0;34m'c'\u001b[0m\u001b[0;34m)\u001b[0m\u001b[0;34m:\u001b[0m\u001b[0;34m\u001b[0m\u001b[0m\n\u001b[1;32m    798\u001b[0m         \u001b[0;32mif\u001b[0m \u001b[0mengine\u001b[0m \u001b[0;34m==\u001b[0m \u001b[0;34m'c'\u001b[0m\u001b[0;34m:\u001b[0m\u001b[0;34m\u001b[0m\u001b[0m\n\u001b[0;32m--> 799\u001b[0;31m             \u001b[0mself\u001b[0m\u001b[0;34m.\u001b[0m\u001b[0m_engine\u001b[0m \u001b[0;34m=\u001b[0m \u001b[0mCParserWrapper\u001b[0m\u001b[0;34m(\u001b[0m\u001b[0mself\u001b[0m\u001b[0;34m.\u001b[0m\u001b[0mf\u001b[0m\u001b[0;34m,\u001b[0m \u001b[0;34m**\u001b[0m\u001b[0mself\u001b[0m\u001b[0;34m.\u001b[0m\u001b[0moptions\u001b[0m\u001b[0;34m)\u001b[0m\u001b[0;34m\u001b[0m\u001b[0m\n\u001b[0m\u001b[1;32m    800\u001b[0m         \u001b[0;32melse\u001b[0m\u001b[0;34m:\u001b[0m\u001b[0;34m\u001b[0m\u001b[0m\n\u001b[1;32m    801\u001b[0m             \u001b[0;32mif\u001b[0m \u001b[0mengine\u001b[0m \u001b[0;34m==\u001b[0m \u001b[0;34m'python'\u001b[0m\u001b[0;34m:\u001b[0m\u001b[0;34m\u001b[0m\u001b[0m\n",
      "\u001b[0;32m/opt/rh/anaconda/root/envs/PUI2016_Python2/lib/python2.7/site-packages/pandas/io/parsers.pyc\u001b[0m in \u001b[0;36m__init__\u001b[0;34m(self, src, **kwds)\u001b[0m\n\u001b[1;32m   1211\u001b[0m         \u001b[0mkwds\u001b[0m\u001b[0;34m[\u001b[0m\u001b[0;34m'allow_leading_cols'\u001b[0m\u001b[0;34m]\u001b[0m \u001b[0;34m=\u001b[0m \u001b[0mself\u001b[0m\u001b[0;34m.\u001b[0m\u001b[0mindex_col\u001b[0m \u001b[0;32mis\u001b[0m \u001b[0;32mnot\u001b[0m \u001b[0mFalse\u001b[0m\u001b[0;34m\u001b[0m\u001b[0m\n\u001b[1;32m   1212\u001b[0m \u001b[0;34m\u001b[0m\u001b[0m\n\u001b[0;32m-> 1213\u001b[0;31m         \u001b[0mself\u001b[0m\u001b[0;34m.\u001b[0m\u001b[0m_reader\u001b[0m \u001b[0;34m=\u001b[0m \u001b[0m_parser\u001b[0m\u001b[0;34m.\u001b[0m\u001b[0mTextReader\u001b[0m\u001b[0;34m(\u001b[0m\u001b[0msrc\u001b[0m\u001b[0;34m,\u001b[0m \u001b[0;34m**\u001b[0m\u001b[0mkwds\u001b[0m\u001b[0;34m)\u001b[0m\u001b[0;34m\u001b[0m\u001b[0m\n\u001b[0m\u001b[1;32m   1214\u001b[0m \u001b[0;34m\u001b[0m\u001b[0m\n\u001b[1;32m   1215\u001b[0m         \u001b[0;31m# XXX\u001b[0m\u001b[0;34m\u001b[0m\u001b[0;34m\u001b[0m\u001b[0m\n",
      "\u001b[0;32mpandas/parser.pyx\u001b[0m in \u001b[0;36mpandas.parser.TextReader.__cinit__ (pandas/parser.c:3427)\u001b[0;34m()\u001b[0m\n",
      "\u001b[0;32mpandas/parser.pyx\u001b[0m in \u001b[0;36mpandas.parser.TextReader._setup_parser_source (pandas/parser.c:6861)\u001b[0;34m()\u001b[0m\n",
      "\u001b[0;31mIOError\u001b[0m: File /home/cusp/tma353/PUIdata/World firearms murders and ownership - Sheet 1.csv does not exist"
     ]
    }
   ],
   "source": [
    "#Import the data\n",
    "df1 = pd.read_csv(os.getenv(\"PUIDATA\") + \"/\" + 'World firearms murders and ownership - Sheet 1.csv')\n",
    "\n",
    "#Tidy it up\n",
    "df1.drop(['ISO code', 'Source', 'Rank by rate of ownership', '% of homicides by firearm', \n",
    "         'Homicide by firearm rate per 100,000 pop', 'Average firearms per 100 people'], axis=1, inplace=True)\n",
    "df1 = df1.rename(columns={'Country/Territory': 'Country', 'Number of homicides by firearm': 'Gun Homicides',\n",
    "                         'Average total all civilian firearms': 'Average Total Civilian Firearms'\n",
    "                         })\n",
    "\n",
    "#Show the head\n",
    "df1.head()"
   ]
  },
  {
   "cell_type": "code",
   "execution_count": null,
   "metadata": {
    "collapsed": true
   },
   "outputs": [],
   "source": [
    "\n",
    "#Import the data\n",
    "df2 = pd.read_csv(os.getenv(\"PUIDATA\") + \"/\" + 'API_SP.POP.TOTL_DS2_en_csv_v2.csv', skiprows=[0,1,2,3], header=None)\n",
    "\n",
    "#Tidy it up\n",
    "new_header = df2.iloc[0]\n",
    "df2 = df2[1:] \n",
    "df2.columns = new_header\n",
    "df2.drop(['Country Code', 'Indicator Name', 'Indicator Code', \n",
    "          1960.0, 1961.0, 1962.0, 1963.0, 1964.0, 1965.0, 1966.0, 1967.0, 1968.0, 1969.0,\n",
    "          1970.0, 1971.0, 1972.0, 1973.0, 1974.0, 1975.0, 1976.0, 1977.0, 1978.0, 1979.0,\n",
    "          1980.0, 1981.0, 1982.0, 1983.0, 1984.0, 1985.0, 1986.0, 1987.0, 1988.0, 1989.0,\n",
    "          1990.0, 1991.0, 1992.0, 1993.0, 1994.0, 1995.0, 1996.0, 1997.0, 1998.0, 1999.0,\n",
    "          2000.0, 2001.0, 2002.0, 2003.0, 2004.0, 2005.0, 2006.0, 2007.0, 2008.0, 2009.0,\n",
    "          2010.0, 2011.0, 2013.0, 2014.0, 2015.0, 2016.0, nan], axis=1, inplace = True)\n",
    "df2 = df2.rename(columns={2012.0: 'Population', 'Country Name': 'Country'})\n",
    "\n",
    "#Show the head\n",
    "df2.head()"
   ]
  },
  {
   "cell_type": "code",
   "execution_count": null,
   "metadata": {
    "collapsed": true
   },
   "outputs": [],
   "source": [
    "#Import the 2012 World GDP data\n",
    "df3 = pd.read_csv(os.getenv(\"PUIDATA\") + \"/\" + 'API_NY.GDP.MKTP.CD_DS2_en_csv_v2.csv', skiprows=[0,1,2,3], header=None)\n",
    "\n",
    "#Tidy it up\n",
    "new_header = df3.iloc[0]\n",
    "df3 = df3[1:] \n",
    "df3.columns = new_header\n",
    "df3.drop(['Country Code', 'Indicator Name', 'Indicator Code', \n",
    "          1960.0, 1961.0, 1962.0, 1963.0, 1964.0, 1965.0, 1966.0, 1967.0, 1968.0, 1969.0,\n",
    "          1970.0, 1971.0, 1972.0, 1973.0, 1974.0, 1975.0, 1976.0, 1977.0, 1978.0, 1979.0,\n",
    "          1980.0, 1981.0, 1982.0, 1983.0, 1984.0, 1985.0, 1986.0, 1987.0, 1988.0, 1989.0,\n",
    "          1990.0, 1991.0, 1992.0, 1993.0, 1994.0, 1995.0, 1996.0, 1997.0, 1998.0, 1999.0,\n",
    "          2000.0, 2001.0, 2002.0, 2003.0, 2004.0, 2005.0, 2006.0, 2007.0, 2008.0, 2009.0,\n",
    "          2010.0, 2011.0, 2013.0, 2014.0, 2015.0, 2016.0, nan], axis=1, inplace = True)\n",
    "df3 = df3.rename(columns={2012.0: 'GDP', 'Country Name': 'Country'})\n",
    "\n",
    "#Show the head\n",
    "df3.head()"
   ]
  },
  {
   "cell_type": "code",
   "execution_count": null,
   "metadata": {
    "collapsed": true
   },
   "outputs": [],
   "source": [
    "#Import the 2012 shoot data\n",
    "df4 = pd.read_csv(os.getenv('PUIDATA') + '/' + 'data-pvLFI.csv')\n",
    "\n",
    "#Show the head\n",
    "df4.head()"
   ]
  },
  {
   "cell_type": "code",
   "execution_count": null,
   "metadata": {
    "collapsed": true
   },
   "outputs": [],
   "source": [
    "merge1 = pd.merge(df1, df4, on='Country')\n",
    "merge2 = pd.merge(merge1, df2, on='Country')\n",
    "df = pd.merge(merge2, df3, on='Country')\n",
    "df.head(30)"
   ]
  },
  {
   "cell_type": "code",
   "execution_count": null,
   "metadata": {
    "collapsed": true
   },
   "outputs": [],
   "source": [
    "fig = pl.figure(figsize=(10,8)) # mass shoot v. GDP\n",
    "ax = fig.add_subplot(111)\n",
    "\n",
    "scatter = ax.scatter((df['GDP'] / 1e9), df['Number of mass shootings'])\n",
    "ax.errorbar((df['GDP'] / 1e9), df['Number of mass shootings'], \n",
    "            yerr = np.sqrt(df['Number of mass shootings'] * 1.0), \n",
    "            fmt = '.')\n",
    "ax.set_xlabel(\"GDP (in billions)\")\n",
    "ax.set_ylabel(\"Number of mass shooting\")\n",
    "ax.set_ylim()\n",
    "pl.show()\n",
    "print (\"Number of mass shooting vs GDP, \" + \n",
    "       \"errors represent Poisson statistics.\\n\" + \n",
    "       \"The datapoint to the top right of the plot is the USA, \" + \n",
    "       \"which has both the highest GDP and the highest number of mass shootings\")"
   ]
  },
  {
   "cell_type": "code",
   "execution_count": null,
   "metadata": {
    "collapsed": true
   },
   "outputs": [],
   "source": [
    "fig = pl.figure(figsize=(10,8)) # mass shoot v. pop\n",
    "ax = fig.add_subplot(111)\n",
    "\n",
    "scatter = ax.scatter((df['Population'] / 1000), df['Number of mass shootings'])\n",
    "ax.set_xlabel(\"Population (in thousands)\")\n",
    "ax.set_ylabel(\"Number of mass shooting per person\")\n",
    "ax.set_ylim()\n",
    "pl.show()\n",
    "print (\"Number of mass shooting vs population, \" + \n",
    "       \"errors represent Poisson statistics.\\n\" + \n",
    "       \"The datapoint to the top right of the plot is the USA, \" + \n",
    "       \"which has both the highest population and the highest number of mass shootings\")"
   ]
  },
  {
   "cell_type": "code",
   "execution_count": null,
   "metadata": {
    "collapsed": true
   },
   "outputs": [],
   "source": [
    "fig = pl.figure(figsize=(15,6)) # avg civilian firearms per capita\n",
    "\n",
    "#Without Errors\n",
    "ax1 = fig.add_subplot(121)\n",
    "scatter = ax1.scatter((df['Population'] / 1000), (df['Average Total Civilian Firearms'] / 1000))\n",
    "ax1.set_xlabel(\"Population (in thousands)\")\n",
    "ax1.set_ylabel(\"Number of civilian firearms (in thousands)\")\n",
    "ax1.set_ylim()\n",
    "\n",
    "\n",
    "#With Errors\n",
    "ax2 = fig.add_subplot(122)\n",
    "scatter = ax2.scatter((df['Population'] / 1000), (df['Average Total Civilian Firearms'] / 1000))\n",
    "ax2.errorbar((df['Population'] / 1000), (df['Average Total Civilian Firearms'] / 1000),\n",
    "            yerr = np.sqrt(df['Average Total Civilian Firearms'] * 1.0), fmt = '.')\n",
    "ax2.set_xlabel(\"Population (in thousands)\")\n",
    "ax2.set_ylabel(\"Number of civilian firearms (in thousands)\")\n",
    "ax2.set_ylim()\n",
    "\n",
    "pl.show()\n",
    "print (\"Number of civilian firearms vs population, \" + \n",
    "       \"errors represent Poisson statistics.\\n\" + \n",
    "       \"The datapoint to the top right of the plot is the USA, \" + \n",
    "       \"which has both the highest population and the highest number of civilian firearms\")"
   ]
  },
  {
   "cell_type": "code",
   "execution_count": null,
   "metadata": {
    "collapsed": true
   },
   "outputs": [],
   "source": [
    "fig, ax = plt.subplots() # avg num of murders by firearms per capita\n",
    "ax.hist(df['Gun Homicides'] / df['Population'] * 1000)\n",
    "ax.set_xlabel('Homicides by firearm per 1000 people');"
   ]
  },
  {
   "cell_type": "code",
   "execution_count": null,
   "metadata": {
    "collapsed": true
   },
   "outputs": [],
   "source": [
    "fig = pl.figure(figsize=(10,8)) # avg num of murders by firearms v. GDP\n",
    "ax = fig.add_subplot(111)\n",
    "\n",
    "scatter = ax.scatter((df['GDP'] / 1e9), df['Gun Homicides']) \n",
    "ax.errorbar((df['GDP'] / 1e9), df['Gun Homicides'], \n",
    "            yerr = np.sqrt(df['Gun Homicides'] * 1.0),\n",
    "            fmt = '.')\n",
    "ax.set_xlabel(\"GDP (in billions)\")\n",
    "ax.set_ylabel(\"Number of homicides by firearm\")\n",
    "ax.set_ylim()\n",
    "pl.show()\n",
    "print (\"Number of homicides by firearm vs GDP, \" + \n",
    "       \"errors represent Poisson statistics.\\n\" + \n",
    "       \"The datapoint to the top right of the plot is the USA, \" + \n",
    "       \"which has both the highest GDP and the highest number of homicides by firearm\")"
   ]
  },
  {
   "cell_type": "code",
   "execution_count": null,
   "metadata": {
    "collapsed": true
   },
   "outputs": [],
   "source": [
    "fig = pl.figure(figsize=(15,6)) # num of murder by gun v. civ guns\n",
    "\n",
    "#Without Errors\n",
    "ax1 = fig.add_subplot(121)\n",
    "scatter = ax1.scatter((df['Average Total Civilian Firearms'] / 1000), df['Gun Homicides'])\n",
    "scatterUSA = ax1.scatter((df['Average Total Civilian Firearms'][21]) / 1000, df['Gun Homicides'][21], c='r')\n",
    "ax1.set_xlabel(\"Number of civilian firearms (in thousands)\")\n",
    "ax1.set_ylabel(\"Number of homicides by firearm\")\n",
    "ax1.set_ylim()\n",
    "\n",
    "\n",
    "#With Errors\n",
    "ax2 = fig.add_subplot(122)\n",
    "scatter = ax2.scatter((df['Average Total Civilian Firearms'] / 1000), df['Gun Homicides'])\n",
    "scatterUSA = ax2.scatter((df['Average Total Civilian Firearms'][21]) / 1000, df['Gun Homicides'][21], c='r')\n",
    "ax2.errorbar((df['Average Total Civilian Firearms'] / 1000), df['Gun Homicides'],\n",
    "                yerr = np.sqrt(df['Gun Homicides'] * 1.0),\n",
    "                xerr = np.sqrt(df['Average Total Civilian Firearms'] * 1.0), fmt = '.')\n",
    "ax2.errorbar((df['Average Total Civilian Firearms'][21] / 1000), df['Gun Homicides'][21],\n",
    "                yerr = np.sqrt(df['Gun Homicides'][21] * 1.0),\n",
    "                xerr = np.sqrt(df['Average Total Civilian Firearms'][21] * 1.0), fmt = '.')\n",
    "ax2.set_xlabel(\"Number of civilian firearms (in thousands)\")\n",
    "ax2.set_ylabel(\"Number of homicides by firearm\")\n",
    "ax2.set_ylim()\n",
    "\n",
    "pl.show()\n",
    "print (\"Number of homicides by firearm vs number of civilian firearms, \" + \n",
    "       \"errors represent Poisson statistics.\\n\" + \n",
    "       \"The datapoint to the top right of the plot is the USA, \" + \n",
    "       \"which has both the highest number of homicides by firearm and the highest number of civilian firearms\")"
   ]
  },
  {
   "cell_type": "code",
   "execution_count": null,
   "metadata": {
    "collapsed": true
   },
   "outputs": [],
   "source": [
    "fig = pl.figure(figsize=(15,6)) # shootings v. guns\n",
    "\n",
    "#Without Errors\n",
    "ax1 = fig.add_subplot(121)\n",
    "scatter = ax1.scatter((df['Average Total Civilian Firearms'] / 1000), df['Number of mass shootings'])\n",
    "scatterUSA = ax1.scatter((df['Average Total Civilian Firearms'][21]) / 1000, df['Number of mass shootings'][21], c='r')\n",
    "ax1.set_xlabel(\"Number of civilian firearms (in thousands)\")\n",
    "ax1.set_ylabel(\"Number of mass shootings\")\n",
    "ax1.set_ylim()\n",
    "\n",
    "\n",
    "#With Errors\n",
    "ax2 = fig.add_subplot(122)\n",
    "scatter = ax2.scatter((df['Average Total Civilian Firearms'] / 1000), df['Number of mass shootings'])\n",
    "scatterUSA = ax2.scatter((df['Average Total Civilian Firearms'][21]) / 1000, df['Number of mass shootings'][21], c='r')\n",
    "ax2.errorbar((df['Average Total Civilian Firearms'] / 1000), df['Number of mass shootings'], \n",
    "                     xerr = np.sqrt(df['Average Total Civilian Firearms'] * 1.0), fmt = '.')\n",
    "ax2.errorbar((df['Average Total Civilian Firearms'][21] / 1000), df['Number of mass shootings'][21], \n",
    "                     xerr = np.sqrt(df['Average Total Civilian Firearms'][21] * 1.0), fmt = '.', c='r')\n",
    "ax2.set_xlabel(\"Number of civilian firearms (in thousands)\")\n",
    "ax2.set_ylabel(\"Number of mass shootings\")\n",
    "ax2.set_ylim()\n",
    "\n",
    "pl.show()\n",
    "print (\"Number of mass shootings vs number of civilian firearms, \" + \n",
    "       \"errors represent Poisson statistics.\\n\" + \n",
    "       \"The datapoint to the top right of the plot is the USA, \" + \n",
    "       \"which has both the highest number of mass shootings and the highest number of civilian fire arms\");"
   ]
  },
  {
   "cell_type": "code",
   "execution_count": null,
   "metadata": {
    "collapsed": true
   },
   "outputs": [],
   "source": [
    "y = df['Number of mass shootings'] \n",
    "x = df['Average Total Civilian Firearms'] / 1000000\n",
    "#x is in millions\n",
    "\n",
    "rmO = sm.OLS(endog = y, exog = x).fit()\n",
    "rmW = sm.WLS(endog = y, exog = x).fit()\n",
    "\n",
    "pl.plot(x,y,'.')\n",
    "yerr=np.abs(y)**0.5\n",
    "pl.errorbar(x,y,yerr=np.abs(y)**0.5, fmt='.')\n",
    "pl.plot(x,rmW.fittedvalues,'-');"
   ]
  },
  {
   "cell_type": "code",
   "execution_count": null,
   "metadata": {
    "collapsed": true
   },
   "outputs": [],
   "source": []
  },
  {
   "cell_type": "code",
   "execution_count": null,
   "metadata": {
    "collapsed": true
   },
   "outputs": [],
   "source": []
  },
  {
   "cell_type": "code",
   "execution_count": null,
   "metadata": {
    "collapsed": true
   },
   "outputs": [],
   "source": []
  }
 ],
 "metadata": {
  "kernelspec": {
   "display_name": "PUI2016_Python2",
   "language": "python",
   "name": "pui2016_python2"
  },
  "language_info": {
   "codemirror_mode": {
    "name": "ipython",
    "version": 2
   },
   "file_extension": ".py",
   "mimetype": "text/x-python",
   "name": "python",
   "nbconvert_exporter": "python",
   "pygments_lexer": "ipython2",
   "version": "2.7.12"
  }
 },
 "nbformat": 4,
 "nbformat_minor": 0
}
