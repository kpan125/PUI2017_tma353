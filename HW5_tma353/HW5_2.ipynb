{
 "cells": [
  {
   "cell_type": "code",
   "execution_count": 1,
   "metadata": {
    "collapsed": false
   },
   "outputs": [
    {
     "name": "stdout",
     "output_type": "stream",
     "text": [
      "Populating the interactive namespace from numpy and matplotlib\n"
     ]
    }
   ],
   "source": [
    "from __future__ import print_function, division\n",
    "import pylab as pl\n",
    "import pandas as pd\n",
    "import numpy as np\n",
    "import os\n",
    "import scipy.stats\n",
    "%pylab inline"
   ]
  },
  {
   "cell_type": "code",
   "execution_count": 3,
   "metadata": {
    "collapsed": true
   },
   "outputs": [],
   "source": [
    "# Testing the difference between a Binomial/Poisson distribution and a \n",
    "# Gaussian distribution as you change the parameters of the Binomial/Poisson using:\n",
    "# 1) KS \n",
    "# https://docs.scipy.org/doc/scipy/reference/generated/scipy.stats.kstest.html#scipy.stats.kstest\n",
    "# 2) AD\n",
    "# https://docs.scipy.org/doc/scipy/reference/generated/scipy.stats.anderson.html#scipy.stats.anderson\n",
    "# 3) KL\n",
    "# https://docs.scipy.org/doc/scipy/reference/generated/scipy.stats.entropy.html#scipy.stats.entropy\n",
    "# 4) Pearson's chisq (not done in skeleton NB)\n",
    "\n",
    "# use the scipy.stats package for this. \n",
    "# For KS (Kolmogorov-Smirnoff), AD (Anderson Darling) generate the distribution \n",
    "# against which you can test a normal (Gaussian) distribution: the KS and AD functions in \n",
    "# scipy have functionality to test against standard distributions (normal, chisq etc) without \n",
    "# you having to code up anything about the distribution itself. KL divergence test and chi square test do not. "
   ]
  },
  {
   "cell_type": "code",
   "execution_count": 2,
   "metadata": {
    "collapsed": true
   },
   "outputs": [],
   "source": [
    "alpha = 0.05\n",
    "np.random.seed(999)\n",
    "\n",
    "# Normal Distribution\n",
    "norm = np.random.randn(1000) \n",
    "\n",
    "# Normalized Poisson Distribution\n",
    "lam = 20\n",
    "pois = (np.random.poisson(lam, 1000) - lam) * (1/np.sqrt(lam))\n",
    "\n",
    "# Normalized Binomial Distribution\n",
    "n = 10 \n",
    "p = 0.5\n",
    "binom = (np.random.binomial(n, p, 1000) - n*p) / np.sqrt(n*p*(1-p))\n",
    "\n",
    "# Array of means for looping\n",
    "mean_array = np.arange(10, 2000, 10)"
   ]
  },
  {
   "cell_type": "code",
   "execution_count": 4,
   "metadata": {
    "collapsed": true
   },
   "outputs": [],
   "source": [
    "# test poisson dist Ho: sample dist from gauss dist"
   ]
  },
  {
   "cell_type": "code",
   "execution_count": 6,
   "metadata": {
    "collapsed": false
   },
   "outputs": [
    {
     "data": {
      "image/png": "[encoded data removed]",
      "text/plain": [
       "<matplotlib.figure.Figure at 0x7fc2c0d957d0>"
      ]
     },
     "metadata": {},
     "output_type": "display_data"
    },
    {
     "name": "stdout",
     "output_type": "stream",
     "text": [
      "Poisson on Normal\n",
      "\n",
      "KS Test: KstestResult(statistic=0.052468363120939276, pvalue=0.0078294399170928397)\n",
      "\n",
      "AD Test: AndersonResult(statistic=2.3670726571554042, critical_values=array([ 0.574,  0.653,  0.784,  0.914,  1.088]), significance_level=array([ 15. ,  10. ,   5. ,   2.5,   1. ]))\n",
      "\n",
      "KL Test: 0.00491776967451\n",
      "\n",
      "Pearson's Chi-Squared:\n"
     ]
    },
    {
     "data": {
      "text/plain": [
       "(None, Power_divergenceResult(statistic=-1861.7836790667943, pvalue=1.0))"
      ]
     },
     "execution_count": 6,
     "metadata": {},
     "output_type": "execute_result"
    }
   ],
   "source": [
    "# plot the Poisson & Normal distributions\n",
    "\n",
    "pl.hist(pois, alpha=0.5, label=\"Poisson\")\n",
    "pl.hist(norm, alpha=0.5, label=\"Gaussian\")\n",
    "pl.legend()\n",
    "pl.title(\"similar distributions in shape\\nnormalized for mean and stretch\")\n",
    "pl.show()\n",
    "\n",
    "# run the KS test for Poisson\n",
    "print (\"Poisson on Normal\\n\")\n",
    "print (\"KS Test:\", scipy.stats.kstest(pois,'norm'))\n",
    "\n",
    "#Run the AD test for Poisson\n",
    "print (\"\\nAD Test:\", scipy.stats.anderson(pois, dist='norm'))\n",
    "\n",
    "# prep and run the KL test for Poisson\n",
    "pdfPois, poisBins, = np.histogram(pois, density=True)\n",
    "poisBinCent = poisBins[:-1] + 0.5*(poisBins[1] - poisBins[0])\n",
    "\n",
    "print (\"\\nKL Test:\", scipy.stats.entropy(pdfPois, scipy.stats.norm.pdf(poisBinCent)))\n",
    "\n",
    "# the Chi-Square test for Poisson\n",
    "print (\"\\nPearson's Chi-Squared:\"), scipy.stats.chisquare(pois, norm)"
   ]
  },
  {
   "cell_type": "code",
   "execution_count": 7,
   "metadata": {
    "collapsed": true
   },
   "outputs": [],
   "source": [
    "# KS Test - Because the p-value (0.007) is below our chosen value (0.05), we can reject $H_0$ and assert that our sample distribution is not Gaussian\n",
    "# AD Test - Because out AD statistic (2.36) is larger than the critical value at 0.05 (0.784), we can reject $H_0$ and assert that our sample distribution is not Gaussian\n",
    "# KL Test - Because out KL statistic (0.0049) is WHAT?\n",
    "# reject $H_0$ and assert that our sample distribution is not Gaussian\n",
    "# Chi-Square Test - Because of HOW DO WE INTERPRET CHI-SQUARE RESULTS"
   ]
  },
  {
   "cell_type": "code",
   "execution_count": 8,
   "metadata": {
    "collapsed": true
   },
   "outputs": [],
   "source": [
    "# Testing the Binomial Distribution\n",
    "# $H_0$: The sample distribution comes from a Gaussian distribution\n",
    "# alpha = 0.05"
   ]
  },
  {
   "cell_type": "code",
   "execution_count": 9,
   "metadata": {
    "collapsed": false
   },
   "outputs": [
    {
     "data": {
      "image/png": "[encoded data removed]",
      "text/plain": [
       "<matplotlib.figure.Figure at 0x7fc2c0c29110>"
      ]
     },
     "metadata": {},
     "output_type": "display_data"
    },
    {
     "name": "stdout",
     "output_type": "stream",
     "text": [
      "Binomial on Normal\n",
      "\n",
      "KS Test: KstestResult(statistic=0.127, pvalue=1.6209256159527285e-14)\n",
      "\n",
      "AD Test: AndersonResult(statistic=15.204460551392458, critical_values=array([ 0.574,  0.653,  0.784,  0.914,  1.088]), significance_level=array([ 15. ,  10. ,   5. ,   2.5,   1. ]))\n",
      "\n",
      "KL Test: 0.00641114132785\n",
      "\n",
      "Pearson's Chi-Squared - \n"
     ]
    },
    {
     "data": {
      "text/plain": [
       "(None,\n",
       " Power_divergenceResult(statistic=3416.8197399489045, pvalue=4.0325568531430412e-261))"
      ]
     },
     "execution_count": 9,
     "metadata": {},
     "output_type": "execute_result"
    }
   ],
   "source": [
    "# plot the Binomial & Normal distributions\n",
    "\n",
    "pl.figure()\n",
    "pl.hist(binom, alpha=0.5, label=\"Binomial\")\n",
    "pl.hist(norm, alpha=0.5, label=\"Gaussian\")\n",
    "pl.legend()\n",
    "pl.title(\"similar distributions\")\n",
    "pl.show()\n",
    "\n",
    "# KS test for Binomial\n",
    "print (\"Binomial on Normal\\n\")\n",
    "print (\"KS Test:\", scipy.stats.kstest(binom,'norm'))\n",
    "\n",
    "# AD test for Binomial\n",
    "print (\"\\nAD Test:\", scipy.stats.anderson(binom,'norm'))\n",
    "\n",
    "# prep run the KL test for Binomial\n",
    "pdfBinom, binomBins, = np.histogram(binom, density=True)\n",
    "binomBinCent = binomBins[:-1] + 0.5*(binomBins[1] - binomBins[0])\n",
    "\n",
    "print (\"\\nKL Test:\", scipy.stats.entropy(pdfBinom, scipy.stats.norm.pdf(binomBinCent)))\n",
    "\n",
    "# Chi-Square test for Poisson\n",
    "print (\"\\nPearson's Chi-Squared - \"), scipy.stats.chisquare(binom, norm)"
   ]
  },
  {
   "cell_type": "code",
   "execution_count": 10,
   "metadata": {
    "collapsed": true
   },
   "outputs": [],
   "source": [
    "# KS Test - Because the p-value is extremely smaller than our chosen value (0.05), we can reject $H_0$ and assert that our sample distribution is not Gaussian\n",
    "# AD Test - Because out AD statistic (15.2) is larger than the critical value at 0.05 (0.784), we can reject $H_0$ and assert that our sample distribution is not Gaussian\n",
    "# KL Test - Because out KL statistic (0.0064) is WHAT?\n",
    "# we can reject $H_0$ and assert that our sample distribution is not Gaussian\n",
    "# Chi-Square Test - Because of HOW DO WE INTERPRET CHI-SQUARE RESULTS"
   ]
  },
  {
   "cell_type": "code",
   "execution_count": 11,
   "metadata": {
    "collapsed": true
   },
   "outputs": [],
   "source": [
    "np.random.seed(999) # binomial\n",
    "\n",
    "binom_KS_p_values = []\n",
    "binom_AD_p_values = []\n",
    "\n",
    "for n in mean_array:\n",
    "    p = 0.5\n",
    "    dist = (np.random.binomial(n, p, 1000) - n * p ) / np.sqrt(n * p * (1-p))\n",
    "    KS_p_value = scipy.stats.kstest(dist,'norm')[1]\n",
    "    binom_KS_p_values.append(KS_p_value)\n",
    "    AD_p_value = scipy.stats.anderson(dist,'norm')[1]\n",
    "    binom_AD_p_values.append(AD_p_value)"
   ]
  },
  {
   "cell_type": "code",
   "execution_count": 12,
   "metadata": {
    "collapsed": false
   },
   "outputs": [
    {
     "ename": "NameError",
     "evalue": "name 'narray' is not defined",
     "output_type": "error",
     "traceback": [
      "\u001b[0;31m\u001b[0m",
      "\u001b[0;31mNameError\u001b[0mTraceback (most recent call last)",
      "\u001b[0;32m<ipython-input-12-015bd8f5f214>\u001b[0m in \u001b[0;36m<module>\u001b[0;34m()\u001b[0m\n\u001b[1;32m      2\u001b[0m \u001b[0mfig\u001b[0m \u001b[0;34m=\u001b[0m \u001b[0mpl\u001b[0m\u001b[0;34m.\u001b[0m\u001b[0mfigure\u001b[0m\u001b[0;34m(\u001b[0m\u001b[0mfigsize\u001b[0m \u001b[0;34m=\u001b[0m \u001b[0;34m(\u001b[0m\u001b[0;36m15\u001b[0m\u001b[0;34m,\u001b[0m\u001b[0;36m5\u001b[0m\u001b[0;34m)\u001b[0m\u001b[0;34m)\u001b[0m\u001b[0;34m\u001b[0m\u001b[0m\n\u001b[1;32m      3\u001b[0m \u001b[0mfig\u001b[0m\u001b[0;34m.\u001b[0m\u001b[0madd_subplot\u001b[0m\u001b[0;34m(\u001b[0m\u001b[0;36m221\u001b[0m\u001b[0;34m)\u001b[0m\u001b[0;34m\u001b[0m\u001b[0m\n\u001b[0;32m----> 4\u001b[0;31m \u001b[0mpl\u001b[0m\u001b[0;34m.\u001b[0m\u001b[0mplot\u001b[0m\u001b[0;34m(\u001b[0m\u001b[0mnarray\u001b[0m\u001b[0;34m,\u001b[0m \u001b[0mks_s_b\u001b[0m\u001b[0;34m,\u001b[0m \u001b[0mlabel\u001b[0m\u001b[0;34m=\u001b[0m\u001b[0;34m'KS statistics'\u001b[0m\u001b[0;34m)\u001b[0m\u001b[0;34m\u001b[0m\u001b[0m\n\u001b[0m\u001b[1;32m      5\u001b[0m \u001b[0mpl\u001b[0m\u001b[0;34m.\u001b[0m\u001b[0mplot\u001b[0m\u001b[0;34m(\u001b[0m\u001b[0mnarray\u001b[0m\u001b[0;34m,\u001b[0m \u001b[0mks_p_b\u001b[0m\u001b[0;34m,\u001b[0m \u001b[0mlabel\u001b[0m\u001b[0;34m=\u001b[0m\u001b[0;34m'KS p-value'\u001b[0m\u001b[0;34m)\u001b[0m\u001b[0;34m\u001b[0m\u001b[0m\n\u001b[1;32m      6\u001b[0m \u001b[0mpl\u001b[0m\u001b[0;34m.\u001b[0m\u001b[0mlegend\u001b[0m\u001b[0;34m(\u001b[0m\u001b[0;34m)\u001b[0m\u001b[0;34m\u001b[0m\u001b[0m\n",
      "\u001b[0;31mNameError\u001b[0m: name 'narray' is not defined"
     ]
    },
    {
     "data": {
      "image/png": "[encoded data removed]",
      "text/plain": [
       "<matplotlib.figure.Figure at 0x7fc2c2ebe090>"
      ]
     },
     "metadata": {},
     "output_type": "display_data"
    }
   ],
   "source": [
    "#KS Test\n",
    "fig = pl.figure(figsize = (15,5))\n",
    "fig.add_subplot(221)\n",
    "pl.plot(narray, ks_s_b, label='KS statistics')\n",
    "pl.plot(narray, ks_p_b, label='KS p-value')\n",
    "pl.legend()\n",
    "\n",
    "#AD Test\n",
    "fig.add_subplot(222)\n",
    "pl.plot(narray, ad_b,  label='AD statistics')\n",
    "pl.plot([narray[0], narray[-1]],[threshold, threshold], label=\"treshold\")\n",
    "pl.ylim(0,10) #limit the y range or you cannot see the relevant part\n",
    "pl.legend()\n",
    "\n",
    "#KL Test\n",
    "fig.add_subplot(223)\n",
    "pl.plot(narray, kl_b, label='K-L (entropy)')\n",
    "\n",
    "#Chi-Square Test\n",
    "fig.add_subplot(224)\n",
    "pl.plot(narray, kl_b, label='K-L (entropy)')\n",
    "\n",
    "pl.legend();"
   ]
  },
  {
   "cell_type": "code",
   "execution_count": 13,
   "metadata": {
    "collapsed": true
   },
   "outputs": [],
   "source": [
    "np.random.seed(999) # poisson\n",
    "narray = []\n",
    "for i,n in enumerate(narray):\n",
    "    lam = i \n",
    "    dist = (np.random.poisson(lam, 1000) - lam) * (1/np.sqrt(lam))\n",
    "    ks_stat_pois[i] = scipy.stats.kstest(dist,'norm')[0]\n",
    "    ks_pval_pois[i] = scipy.stats.kstest(dist,'norm')[1]"
   ]
  },
  {
   "cell_type": "code",
   "execution_count": 14,
   "metadata": {
    "collapsed": false
   },
   "outputs": [
    {
     "ename": "NameError",
     "evalue": "name 'ks_s_b' is not defined",
     "output_type": "error",
     "traceback": [
      "\u001b[0;31m\u001b[0m",
      "\u001b[0;31mNameError\u001b[0mTraceback (most recent call last)",
      "\u001b[0;32m<ipython-input-14-99bfd93e133c>\u001b[0m in \u001b[0;36m<module>\u001b[0;34m()\u001b[0m\n\u001b[1;32m      2\u001b[0m \u001b[0mfig\u001b[0m \u001b[0;34m=\u001b[0m \u001b[0mpl\u001b[0m\u001b[0;34m.\u001b[0m\u001b[0mfigure\u001b[0m\u001b[0;34m(\u001b[0m\u001b[0mfigsize\u001b[0m \u001b[0;34m=\u001b[0m \u001b[0;34m(\u001b[0m\u001b[0;36m15\u001b[0m\u001b[0;34m,\u001b[0m\u001b[0;36m5\u001b[0m\u001b[0;34m)\u001b[0m\u001b[0;34m)\u001b[0m\u001b[0;34m\u001b[0m\u001b[0m\n\u001b[1;32m      3\u001b[0m \u001b[0mfig\u001b[0m\u001b[0;34m.\u001b[0m\u001b[0madd_subplot\u001b[0m\u001b[0;34m(\u001b[0m\u001b[0;36m221\u001b[0m\u001b[0;34m)\u001b[0m\u001b[0;34m\u001b[0m\u001b[0m\n\u001b[0;32m----> 4\u001b[0;31m \u001b[0mpl\u001b[0m\u001b[0;34m.\u001b[0m\u001b[0mplot\u001b[0m\u001b[0;34m(\u001b[0m\u001b[0mnarray\u001b[0m\u001b[0;34m,\u001b[0m \u001b[0mks_s_b\u001b[0m\u001b[0;34m,\u001b[0m \u001b[0mlabel\u001b[0m\u001b[0;34m=\u001b[0m\u001b[0;34m'KS statistics'\u001b[0m\u001b[0;34m)\u001b[0m\u001b[0;34m\u001b[0m\u001b[0m\n\u001b[0m\u001b[1;32m      5\u001b[0m \u001b[0mpl\u001b[0m\u001b[0;34m.\u001b[0m\u001b[0mplot\u001b[0m\u001b[0;34m(\u001b[0m\u001b[0mnarray\u001b[0m\u001b[0;34m,\u001b[0m \u001b[0mks_p_b\u001b[0m\u001b[0;34m,\u001b[0m \u001b[0mlabel\u001b[0m\u001b[0;34m=\u001b[0m\u001b[0;34m'KS p-value'\u001b[0m\u001b[0;34m)\u001b[0m\u001b[0;34m\u001b[0m\u001b[0m\n\u001b[1;32m      6\u001b[0m \u001b[0mpl\u001b[0m\u001b[0;34m.\u001b[0m\u001b[0mlegend\u001b[0m\u001b[0;34m(\u001b[0m\u001b[0;34m)\u001b[0m\u001b[0;34m\u001b[0m\u001b[0m\n",
      "\u001b[0;31mNameError\u001b[0m: name 'ks_s_b' is not defined"
     ]
    },
    {
     "data": {
      "image/png": "[encoded data removed]",
      "text/plain": [
       "<matplotlib.figure.Figure at 0x7fc2c0bd95d0>"
      ]
     },
     "metadata": {},
     "output_type": "display_data"
    }
   ],
   "source": [
    "# KS Test\n",
    "fig = pl.figure(figsize = (15,5))\n",
    "fig.add_subplot(221)\n",
    "pl.plot(narray, ks_s_b, label='KS statistics')\n",
    "pl.plot(narray, ks_p_b, label='KS p-value')\n",
    "pl.legend()\n",
    "\n",
    "# AD Test\n",
    "fig.add_subplot(222)\n",
    "pl.plot(narray, ad_b,  label='AD statistics')\n",
    "pl.plot([narray[0], narray[-1]],[threshold, threshold], label=\"treshold\")\n",
    "pl.ylim(0,10) #limit the y range or you cannot see the relevant part\n",
    "pl.legend()\n",
    "\n",
    "# KL Test\n",
    "fig.add_subplot(223)\n",
    "pl.plot(narray, kl_b, label='K-L (entropy)')\n",
    "\n",
    "# Chi-Square Test\n",
    "fig.add_subplot(224)\n",
    "pl.plot(narray, kl_b, label='K-L (entropy)')\n",
    "\n",
    "pl.legend();"
   ]
  },
  {
   "cell_type": "code",
   "execution_count": null,
   "metadata": {
    "collapsed": true
   },
   "outputs": [],
   "source": []
  },
  {
   "cell_type": "code",
   "execution_count": null,
   "metadata": {
    "collapsed": true
   },
   "outputs": [],
   "source": []
  },
  {
   "cell_type": "code",
   "execution_count": null,
   "metadata": {
    "collapsed": true
   },
   "outputs": [],
   "source": []
  },
  {
   "cell_type": "code",
   "execution_count": null,
   "metadata": {
    "collapsed": true
   },
   "outputs": [],
   "source": []
  },
  {
   "cell_type": "code",
   "execution_count": 4,
   "metadata": {
    "collapsed": false
   },
   "outputs": [
    {
     "name": "stdout",
     "output_type": "stream",
     "text": [
      "normal on normal KstestResult(statistic=0.016344431331899001, pvalue=0.95212890203293565)\n",
      "normal on normal AndersonResult(statistic=0.26231814126674635, critical_values=array([ 0.574,  0.653,  0.784,  0.914,  1.088]), significance_level=array([ 15. ,  10. ,   5. ,   2.5,   1. ]))\n",
      "\n"
     ]
    }
   ],
   "source": [
    "#generate the distribution\n",
    "alpha = 0.05\n",
    "np.random.seed(999)\n",
    "dist_n = np.random.randn(1000) \n",
    "\n",
    "#test AD and KS. easy to run\n",
    "print (\"normal on normal\", scipy.stats.kstest(dist_n,'norm'))\n",
    "print (\"normal on normal\", scipy.stats.anderson(dist_n, dist='norm'))\n",
    "print (\"\")"
   ]
  },
  {
   "cell_type": "code",
   "execution_count": null,
   "metadata": {
    "collapsed": true
   },
   "outputs": [],
   "source": []
  },
  {
   "cell_type": "code",
   "execution_count": 7,
   "metadata": {
    "collapsed": false
   },
   "outputs": [
    {
     "ename": "IndentationError",
     "evalue": "unexpected indent (<ipython-input-7-96404167da73>, line 10)",
     "output_type": "error",
     "traceback": [
      "\u001b[0;36m  File \u001b[0;32m\"<ipython-input-7-96404167da73>\"\u001b[0;36m, line \u001b[0;32m10\u001b[0m\n\u001b[0;31m    \"so the distributions will be different for KS and AD test. \" +\u001b[0m\n\u001b[0m    ^\u001b[0m\n\u001b[0;31mIndentationError\u001b[0m\u001b[0;31m:\u001b[0m unexpected indent\n"
     ]
    }
   ],
   "source": [
    "#pl.figure()\n",
    "#pl.hist(dist_p, alpha=0.5, label=\"Poisson\")\n",
    "#pl.hist(dist_n, alpha=0.5, label=\"Gaussian\")\n",
    "#pl.legend()\n",
    "#pl.title(\"similar distributions in shape\\nbut different mean and stretch\")\n",
    "#pl.show()\n",
    "#print (\"poisson on normal\", scipy.stats.kstest(dist_p,'norm'))\n",
    "#print (\"poisson on normal\", scipy.stats.anderson(dist_p, dist='norm'))\n",
    "#print (\"\\n\\nIn this case the means are different, \" + \n",
    "       \"so the distributions will be different for KS and AD test. \" + \n",
    "       \"I want a distribution with 'Poisson with high mean' shape cause that is more Gaussian\" + \n",
    "       \"but I want the mean to be the same as for my Gaussian: mean=0. \"\n",
    "       \"Similarly, the standard deviation is sqrt(lambda) = sqrt(100). I want it to be 1\") "
   ]
  },
  {
   "cell_type": "code",
   "execution_count": 8,
   "metadata": {
    "collapsed": false,
    "scrolled": false
   },
   "outputs": [
    {
     "data": {
      "image/png": "[encoded data removed]",
      "text/plain": [
       "<matplotlib.figure.Figure at 0x7f979a0b71d0>"
      ]
     },
     "metadata": {},
     "output_type": "display_data"
    },
    {
     "name": "stdout",
     "output_type": "stream",
     "text": [
      "poisson vs normal KstestResult(statistic=0.047740290560897014, pvalue=0.02027702397150466)\n",
      "poisson vs normal AndersonResult(statistic=0.72428815547573322, critical_values=array([ 0.574,  0.653,  0.784,  0.914,  1.088]), significance_level=array([ 15. ,  10. ,   5. ,   2.5,   1. ]))\n",
      "KS: lower p-value but still rejecting the H0 at alpha=0.05\n",
      "AD: statistics AD=0.92 larger than threshold (for alpha=0.05) \n",
      "thresh_0.05 = 0.784 0.784\n"
     ]
    },
    {
     "data": {
      "image/png": "[encoded data removed]",
      "text/plain": [
       "<matplotlib.figure.Figure at 0x7f979a05cf10>"
      ]
     },
     "metadata": {},
     "output_type": "display_data"
    },
    {
     "name": "stdout",
     "output_type": "stream",
     "text": [
      "binomial vs normal KstestResult(statistic=0.127, pvalue=1.6209256159527285e-14)\n",
      "binomial vs normal AndersonResult(statistic=15.89083442237586, critical_values=array([ 0.574,  0.653,  0.784,  0.914,  1.088]), significance_level=array([ 15. ,  10. ,   5. ,   2.5,   1. ]))\n",
      " what does the result of each test say??\n"
     ]
    }
   ],
   "source": [
    "# poisson with 1000 elements, lambda=100 (high)\n",
    "\n",
    "dist_p = np.random.poisson(100, 1000)\n",
    "\n",
    "\n",
    "np.random.seed(999)\n",
    "\n",
    "dist_p = (np.random.poisson(100, 1000) - 100) * 0.1 #-100 fixes mean, *0.1 fixes stdev, exponent\n",
    "pl.figure()\n",
    "pl.hist(dist_p, alpha=0.5, label=\"Poisson\")\n",
    "pl.hist(dist_n, alpha=0.5, label=\"Gaussian\")\n",
    "pl.legend()\n",
    "pl.title(\"similar distributions\")\n",
    "pl.show()\n",
    "\n",
    "print (\"poisson vs normal\", scipy.stats.kstest(dist_p,'norm'))\n",
    "print (\"poisson vs normal\", scipy.stats.anderson(dist_p, dist='norm'))\n",
    "print (\"KS: lower p-value but still rejecting the H0 at alpha=0.05\") \n",
    "print (\"AD: statistics AD=0.92 larger than threshold (for alpha=0.05) \") \n",
    "\n",
    "threshold = scipy.stats.anderson(dist_n, \n",
    "                                 dist='norm')[1][scipy.stats.anderson(dist_n, \n",
    "                                                                      dist='norm')[2]==[5.0]]\n",
    "print (\"thresh_0.05 = 0.784\", threshold[0])\n",
    "\n",
    "#binomial with n=10, p=0.5 => mean=np=5, stdev=sqrt(np(1-p))\n",
    "n, p = 10, 0.5\n",
    "dist_b = (np.random.binomial(n, p, 1000) - n*p) / np.sqrt(n*p*(1-p))  #subtract mean divide by stdev\n",
    "pl.figure()\n",
    "pl.hist(dist_b, alpha=0.5, label=\"Binomial\")\n",
    "pl.hist(dist_n, alpha=0.5, label=\"Gaussian\")\n",
    "pl.legend()\n",
    "pl.title(\"similar distributions\")\n",
    "pl.show()\n",
    "\n",
    "print (\"binomial vs normal\", scipy.stats.kstest(dist_b,'norm'))\n",
    "print (\"binomial vs normal\", scipy.stats.anderson(dist_b, dist='norm'))\n",
    "print (\" what does the result of each test say??\")"
   ]
  },
  {
   "cell_type": "code",
   "execution_count": 9,
   "metadata": {
    "collapsed": true
   },
   "outputs": [],
   "source": [
    "# np.histogram returns the value of the histogram (y) and the edges of the bins (x). \n",
    "# Notice: the edges, not the centers\n",
    "distpdf_n, mybins_n, = np.histogram(dist_n, density=True)\n",
    "distpdf_b, mybins_b, = np.histogram(dist_b, density=True)\n",
    "distpdf_p, mybins_p, = np.histogram(dist_p, density=True)\n",
    "\n",
    "#notice the extra comma on the left side of the '=' sign: \n",
    "#that tells numpy take the first two values returned, \n",
    "#and throw away the rest"
   ]
  },
  {
   "cell_type": "code",
   "execution_count": 10,
   "metadata": {
    "collapsed": false
   },
   "outputs": [
    {
     "name": "stdout",
     "output_type": "stream",
     "text": [
      "the KL test returns the \"entropy\". To figure out what the number means thoug in terms of NULL rejection, help yourself with the fact that you know what the result should be for these three distributions!\n",
      "normal on normal 0.00527211066212\n",
      "poisson on normal 0.00698654857671\n",
      "binomial on normal 0.078200757041\n"
     ]
    }
   ],
   "source": [
    "#get the bin centers\n",
    "bincenters_n = mybins_n[:-1] + 0.5*(mybins_n[1] - mybins_n[0])\n",
    "bincenters_b = mybins_b[:-1] + 0.5*(mybins_b[1] - mybins_b[0])\n",
    "bincenters_p = mybins_p[:-1] + 0.5*(mybins_p[1] - mybins_p[0])\n",
    "\n",
    "print ('the KL test returns the \"entropy\". ' + \n",
    "       \"To figure out what the number means thoug in terms of NULL rejection, help yourself \" + \n",
    "       \"with the fact that you know what the result should be for these three distributions!\")\n",
    "print (\"normal on normal\", \n",
    "    scipy.stats.entropy(distpdf_n, \n",
    "                            scipy.stats.norm.pdf(bincenters_n)) )\n",
    "print (\"poisson on normal\", \n",
    "       scipy.stats.entropy(distpdf_p, \n",
    "                                scipy.stats.norm.pdf(bincenters_p)))\n",
    "\n",
    "print (\"binomial on normal\", \n",
    "       scipy.stats.entropy(distpdf_b, \n",
    "                                scipy.stats.norm.pdf(bincenters_p)))\n",
    "\n",
    "#you can interpret this as a distance: \n",
    "# it increases as the distributions diverge"
   ]
  },
  {
   "cell_type": "code",
   "execution_count": 11,
   "metadata": {
    "collapsed": false
   },
   "outputs": [
    {
     "ename": "NameError",
     "evalue": "name 'narray' is not defined",
     "output_type": "error",
     "traceback": [
      "\u001b[0;31m\u001b[0m",
      "\u001b[0;31mNameError\u001b[0mTraceback (most recent call last)",
      "\u001b[0;32m<ipython-input-11-cd977d64e6fa>\u001b[0m in \u001b[0;36m<module>\u001b[0;34m()\u001b[0m\n\u001b[1;32m      2\u001b[0m \u001b[0;34m\u001b[0m\u001b[0m\n\u001b[1;32m      3\u001b[0m \u001b[0;31m#loop over the different values of n (or n and p)\u001b[0m\u001b[0;34m\u001b[0m\u001b[0;34m\u001b[0m\u001b[0m\n\u001b[0;32m----> 4\u001b[0;31m \u001b[0;32mfor\u001b[0m \u001b[0mi\u001b[0m\u001b[0;34m,\u001b[0m\u001b[0mn\u001b[0m \u001b[0;32min\u001b[0m \u001b[0menumerate\u001b[0m\u001b[0;34m(\u001b[0m\u001b[0mnarray\u001b[0m\u001b[0;34m)\u001b[0m\u001b[0;34m:\u001b[0m\u001b[0;34m\u001b[0m\u001b[0m\n\u001b[0m\u001b[1;32m      5\u001b[0m     \u001b[0mp\u001b[0m \u001b[0;34m=\u001b[0m \u001b[0;36m0.5\u001b[0m \u001b[0;31m#parameter for the binomial, my arbitrary choice\u001b[0m\u001b[0;34m\u001b[0m\u001b[0m\n\u001b[1;32m      6\u001b[0m     \u001b[0;31m#generate the distribution\u001b[0m\u001b[0;34m\u001b[0m\u001b[0;34m\u001b[0m\u001b[0m\n",
      "\u001b[0;31mNameError\u001b[0m: name 'narray' is not defined"
     ]
    }
   ],
   "source": [
    "np.random.seed(999)\n",
    "\n",
    "#loop over the different values of n (or n and p)\n",
    "for i,n in enumerate(narray):\n",
    "    p = 0.5 #parameter for the binomial, my arbitrary choice\n",
    "    #generate the distribution\n",
    "    dist = (np.random.binomial(n, p, 1000) - n * p ) / np.sqrt(n * p * (1-p))\n",
    "    #run the tests. \n",
    "    ks_s_b[i] = scipy.stats.kstest(dist,'norm')[0]\n",
    "    ks_p_b[i] = scipy.stats.kstest(dist,'norm')[1]\n",
    "    #print (scipy.stats.kstest(dist,'norm'))\n",
    "    #print (scipy.stats.anderson(dist, dist='norm'))\n",
    "    ad_b[i] = scipy.stats.anderson(dist, dist='norm')[0]\n",
    "    #ad_b[i] = ad_b[i] / ad_b[0]\n",
    "    #print ad_b[i]\n",
    "  \n",
    "    # for KL and Pearson's chisq I have to simulate the normal distribution as well\n",
    "    mybins = np.linspace(min(dist), max(dist), 10) \n",
    "    bincenters = mybins[:-1] + 0.5 * (mybins[1] - mybins[0])\n",
    "\n",
    "    #when i was coding this up something was wrong. i put some plots in to figure out what... \n",
    "    # just so you know.\n",
    "    #if i%10 == 0: \n",
    "    #    pl.hist(dist, bins=mybins)\n",
    "    #    pl.plot(bincenters, scipy.stats.norm.pdf(bincenters)*1000)\n",
    "    kl_b [i] =  scipy.stats.entropy(np.histogram(dist, bins=mybins)[0], \n",
    "                                    scipy.stats.norm.pdf(bincenters) + n)"
   ]
  },
  {
   "cell_type": "code",
   "execution_count": 12,
   "metadata": {
    "collapsed": false
   },
   "outputs": [
    {
     "ename": "NameError",
     "evalue": "name 'narray' is not defined",
     "output_type": "error",
     "traceback": [
      "\u001b[0;31m\u001b[0m",
      "\u001b[0;31mNameError\u001b[0mTraceback (most recent call last)",
      "\u001b[0;32m<ipython-input-12-501d4787af53>\u001b[0m in \u001b[0;36m<module>\u001b[0;34m()\u001b[0m\n\u001b[1;32m      1\u001b[0m \u001b[0mfig\u001b[0m \u001b[0;34m=\u001b[0m \u001b[0mpl\u001b[0m\u001b[0;34m.\u001b[0m\u001b[0mfigure\u001b[0m\u001b[0;34m(\u001b[0m\u001b[0mfigsize\u001b[0m \u001b[0;34m=\u001b[0m \u001b[0;34m(\u001b[0m\u001b[0;36m15\u001b[0m\u001b[0;34m,\u001b[0m\u001b[0;36m5\u001b[0m\u001b[0;34m)\u001b[0m\u001b[0;34m)\u001b[0m\u001b[0;34m\u001b[0m\u001b[0m\n\u001b[1;32m      2\u001b[0m \u001b[0mfig\u001b[0m\u001b[0;34m.\u001b[0m\u001b[0madd_subplot\u001b[0m\u001b[0;34m(\u001b[0m\u001b[0;36m131\u001b[0m\u001b[0;34m)\u001b[0m\u001b[0;34m\u001b[0m\u001b[0m\n\u001b[0;32m----> 3\u001b[0;31m \u001b[0mpl\u001b[0m\u001b[0;34m.\u001b[0m\u001b[0mplot\u001b[0m\u001b[0;34m(\u001b[0m\u001b[0mnarray\u001b[0m\u001b[0;34m,\u001b[0m \u001b[0mks_s_b\u001b[0m\u001b[0;34m,\u001b[0m \u001b[0mlabel\u001b[0m\u001b[0;34m=\u001b[0m\u001b[0;34m'KS statistics'\u001b[0m\u001b[0;34m)\u001b[0m\u001b[0;34m\u001b[0m\u001b[0m\n\u001b[0m\u001b[1;32m      4\u001b[0m \u001b[0mpl\u001b[0m\u001b[0;34m.\u001b[0m\u001b[0mplot\u001b[0m\u001b[0;34m(\u001b[0m\u001b[0mnarray\u001b[0m\u001b[0;34m,\u001b[0m \u001b[0mks_p_b\u001b[0m\u001b[0;34m,\u001b[0m \u001b[0mlabel\u001b[0m\u001b[0;34m=\u001b[0m\u001b[0;34m'KS p-value'\u001b[0m\u001b[0;34m)\u001b[0m\u001b[0;34m\u001b[0m\u001b[0m\n\u001b[1;32m      5\u001b[0m \u001b[0mpl\u001b[0m\u001b[0;34m.\u001b[0m\u001b[0mlegend\u001b[0m\u001b[0;34m(\u001b[0m\u001b[0;34m)\u001b[0m\u001b[0;34m\u001b[0m\u001b[0m\n",
      "\u001b[0;31mNameError\u001b[0m: name 'narray' is not defined"
     ]
    },
    {
     "data": {
      "image/png": "[encoded data removed]",
      "text/plain": [
       "<matplotlib.figure.Figure at 0x7f9818a0ed10>"
      ]
     },
     "metadata": {},
     "output_type": "display_data"
    }
   ],
   "source": [
    "fig = pl.figure(figsize = (15,5))\n",
    "fig.add_subplot(131)\n",
    "pl.plot(narray, ks_s_b, label='KS statistics')\n",
    "pl.plot(narray, ks_p_b, label='KS p-value')\n",
    "pl.legend()\n",
    "\n",
    "fig.add_subplot(132)\n",
    "pl.plot(narray, ad_b,  label='AD statistics')\n",
    "pl.plot([narray[0], narray[-1]],[threshold, threshold], label=\"treshold\")\n",
    "pl.ylim(0,10) #limit the y range or you cannot see the relevant part\n",
    "pl.legend()\n",
    "\n",
    "fig.add_subplot(133)\n",
    "pl.plot(narray, kl_b, label='K-L (entropy)')\n",
    "\n",
    "pl.legend();"
   ]
  },
  {
   "cell_type": "code",
   "execution_count": 16,
   "metadata": {
    "collapsed": false
   },
   "outputs": [
    {
     "data": {
      "image/png": "[encoded data removed]",
      "text/plain": [
       "<matplotlib.figure.Figure at 0x7fcca7a78850>"
      ]
     },
     "metadata": {},
     "output_type": "display_data"
    }
   ],
   "source": [
    "pl.figure(figsize=(15,15))\n",
    "\n",
    "q = lambda x, mu : scipy.stats.distributions.norm.pdf(x - mu)\n",
    "c = lambda x, mu : scipy.stats.distributions.chi2.pdf(x, df=mu)\n",
    "f = lambda x, mu : scipy.stats.distributions.f.pdf(x,100,100)\n",
    "\n",
    "Dkl = lambda x ,mu, p :  p(x, mu) * np.log10(q(x, mu)) + p(x, mu) * np.log10(p(x, mu))\n",
    "\n",
    "def model(x) : \n",
    "    #gaussian model from scratch\n",
    "    return 1. / (s * np.sqrt(2 * np.pi)) * np.exp(- ((x - m)**2 / 2. / s**2))\n",
    "\n",
    "x = np.linspace(-10,10,100)\n",
    "pl.plot(x, q(x, 1), label='norm')\n",
    "\n",
    "#print np.nansum(Dkl(np.linspace(0,30,1000), 1, p))\n",
    "\n",
    "pl.plot(x, c(x,1), label='f')\n",
    "pl.plot(x,Dkl(x, 1, c), '--', label = 'KL - chi2')\n",
    "\n",
    "#print np.nansum(Dkl(np.linspace(0,30,1000), 1, c))\n",
    "\n",
    "pl.plot(x, f(x,1), label='F')\n",
    "pl.plot(x, Dkl(x, 1, f), '--', label = 'KL - F')\n",
    "\n",
    "#print np.nansum(Dkl(np.linspace(0,30,1000), 1, f))\n",
    "bins = np.arange(0, 99, 10)\n",
    "\n",
    "pl.xlim(-10, 10)\n",
    "pl.legend(fontsize = 20);"
   ]
  },
  {
   "cell_type": "code",
   "execution_count": null,
   "metadata": {
    "collapsed": true
   },
   "outputs": [],
   "source": []
  }
 ],
 "metadata": {
  "kernelspec": {
   "display_name": "PUI2016_Python2",
   "language": "python",
   "name": "pui2016_python2"
  },
  "language_info": {
   "codemirror_mode": {
    "name": "ipython",
    "version": 2
   },
   "file_extension": ".py",
   "mimetype": "text/x-python",
   "name": "python",
   "nbconvert_exporter": "python",
   "pygments_lexer": "ipython2",
   "version": "2.7.12"
  }
 },
 "nbformat": 4,
 "nbformat_minor": 0
}
